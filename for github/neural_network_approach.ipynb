{
 "cells": [
  {
   "cell_type": "code",
   "execution_count": 1,
   "metadata": {},
   "outputs": [],
   "source": [
    "import pandas as pd\n",
    "import numpy as np\n",
    "from sklearn.model_selection import train_test_split\n",
    "from sklearn.preprocessing import StandardScaler\n",
    "from sklearn.metrics import f1_score\n",
    "from sklearn.compose import ColumnTransformer\n",
    "from sklearn.preprocessing import OneHotEncoder\n",
    "\n",
    "from imblearn.over_sampling import SMOTENC\n",
    "\n",
    "from tensorflow.keras.models import Sequential\n",
    "from tensorflow.keras.layers import Dense\n"
   ]
  },
  {
   "cell_type": "code",
   "execution_count": 2,
   "metadata": {},
   "outputs": [],
   "source": [
    "train_values = pd.read_csv('train_values.csv')\n",
    "train_labels = pd.read_csv('train_labels.csv')\n",
    "test_values = pd.read_csv('test_values.csv')\n",
    "\n",
    "train_df = train_values.merge(train_labels, on='building_id')"
   ]
  },
  {
   "cell_type": "code",
   "execution_count": 3,
   "metadata": {},
   "outputs": [],
   "source": [
    "train_ids = train_df['building_id']\n",
    "test_ids = test_values['building_id']\n",
    "train_df = train_df.drop(columns=['building_id'])\n",
    "test_values = test_values.drop(columns=['building_id'])\n",
    "\n",
    "y = train_df['damage_grade']\n",
    "X = train_df.drop(columns=['damage_grade'])\n",
    "\n",
    "categorical_cols = X.select_dtypes(include=['object']).columns.tolist()\n",
    "\n",
    "all_data = pd.concat([X, test_values], axis=0)\n",
    "\n",
    "ct = ColumnTransformer(\n",
    "    transformers=[('cat', OneHotEncoder(handle_unknown='ignore'), categorical_cols)],\n",
    "    remainder='passthrough'\n",
    ")\n",
    "\n",
    "X_all_encoded = ct.fit_transform(all_data)\n",
    "X_encoded = X_all_encoded[:len(X)]\n",
    "X_test_encoded = X_all_encoded[len(X):]\n"
   ]
  },
  {
   "cell_type": "code",
   "execution_count": 4,
   "metadata": {},
   "outputs": [],
   "source": [
    "ohe = ct.named_transformers_['cat']\n",
    "num_cat_features = len(ohe.get_feature_names_out())\n",
    "cat_indices = list(range(num_cat_features))\n",
    "\n",
    "smote = SMOTENC(categorical_features=cat_indices, random_state=42)\n",
    "X_resampled, y_resampled = smote.fit_resample(X_encoded, y)\n"
   ]
  },
  {
   "cell_type": "code",
   "execution_count": 5,
   "metadata": {},
   "outputs": [],
   "source": [
    "X_train, X_val, y_train, y_val = train_test_split(\n",
    "    X_resampled, y_resampled, test_size=0.2, random_state=42, stratify=y_resampled\n",
    ")\n",
    "\n",
    "scaler = StandardScaler(with_mean=False) \n",
    "X_train_scaled = scaler.fit_transform(X_train)\n",
    "X_val_scaled = scaler.transform(X_val)\n",
    "X_test_scaled = scaler.transform(X_test_encoded)\n",
    "\n",
    "y_train_adj = y_train - 1\n",
    "y_val_adj = y_val - 1\n"
   ]
  },
  {
   "cell_type": "code",
   "execution_count": 6,
   "metadata": {},
   "outputs": [
    {
     "name": "stderr",
     "output_type": "stream",
     "text": [
      "/opt/anaconda3/lib/python3.11/site-packages/keras/src/layers/core/dense.py:87: UserWarning: Do not pass an `input_shape`/`input_dim` argument to a layer. When using Sequential models, prefer using an `Input(shape)` object as the first layer in the model instead.\n",
      "  super().__init__(activity_regularizer=activity_regularizer, **kwargs)\n"
     ]
    },
    {
     "name": "stdout",
     "output_type": "stream",
     "text": [
      "Epoch 1/15\n",
      "\u001b[1m5560/5560\u001b[0m \u001b[32m━━━━━━━━━━━━━━━━━━━━\u001b[0m\u001b[37m\u001b[0m \u001b[1m4s\u001b[0m 568us/step - accuracy: 0.6047 - loss: 0.7991 - val_accuracy: 0.6662 - val_loss: 0.6952\n",
      "Epoch 2/15\n",
      "\u001b[1m5560/5560\u001b[0m \u001b[32m━━━━━━━━━━━━━━━━━━━━\u001b[0m\u001b[37m\u001b[0m \u001b[1m3s\u001b[0m 550us/step - accuracy: 0.6764 - loss: 0.6800 - val_accuracy: 0.6967 - val_loss: 0.6405\n",
      "Epoch 3/15\n",
      "\u001b[1m5560/5560\u001b[0m \u001b[32m━━━━━━━━━━━━━━━━━━━━\u001b[0m\u001b[37m\u001b[0m \u001b[1m3s\u001b[0m 532us/step - accuracy: 0.6990 - loss: 0.6384 - val_accuracy: 0.6971 - val_loss: 0.6374\n",
      "Epoch 4/15\n",
      "\u001b[1m5560/5560\u001b[0m \u001b[32m━━━━━━━━━━━━━━━━━━━━\u001b[0m\u001b[37m\u001b[0m \u001b[1m3s\u001b[0m 537us/step - accuracy: 0.7074 - loss: 0.6222 - val_accuracy: 0.7098 - val_loss: 0.6185\n",
      "Epoch 5/15\n",
      "\u001b[1m5560/5560\u001b[0m \u001b[32m━━━━━━━━━━━━━━━━━━━━\u001b[0m\u001b[37m\u001b[0m \u001b[1m3s\u001b[0m 541us/step - accuracy: 0.7140 - loss: 0.6098 - val_accuracy: 0.7176 - val_loss: 0.6051\n",
      "Epoch 6/15\n",
      "\u001b[1m5560/5560\u001b[0m \u001b[32m━━━━━━━━━━━━━━━━━━━━\u001b[0m\u001b[37m\u001b[0m \u001b[1m3s\u001b[0m 529us/step - accuracy: 0.7182 - loss: 0.6030 - val_accuracy: 0.7192 - val_loss: 0.6045\n",
      "Epoch 7/15\n",
      "\u001b[1m5560/5560\u001b[0m \u001b[32m━━━━━━━━━━━━━━━━━━━━\u001b[0m\u001b[37m\u001b[0m \u001b[1m3s\u001b[0m 558us/step - accuracy: 0.7231 - loss: 0.5952 - val_accuracy: 0.7206 - val_loss: 0.5967\n",
      "Epoch 8/15\n",
      "\u001b[1m5560/5560\u001b[0m \u001b[32m━━━━━━━━━━━━━━━━━━━━\u001b[0m\u001b[37m\u001b[0m \u001b[1m3s\u001b[0m 539us/step - accuracy: 0.7281 - loss: 0.5844 - val_accuracy: 0.7232 - val_loss: 0.5933\n",
      "Epoch 9/15\n",
      "\u001b[1m5560/5560\u001b[0m \u001b[32m━━━━━━━━━━━━━━━━━━━━\u001b[0m\u001b[37m\u001b[0m \u001b[1m3s\u001b[0m 545us/step - accuracy: 0.7278 - loss: 0.5831 - val_accuracy: 0.7269 - val_loss: 0.5910\n",
      "Epoch 10/15\n",
      "\u001b[1m5560/5560\u001b[0m \u001b[32m━━━━━━━━━━━━━━━━━━━━\u001b[0m\u001b[37m\u001b[0m \u001b[1m3s\u001b[0m 544us/step - accuracy: 0.7321 - loss: 0.5769 - val_accuracy: 0.7248 - val_loss: 0.5941\n",
      "Epoch 11/15\n",
      "\u001b[1m5560/5560\u001b[0m \u001b[32m━━━━━━━━━━━━━━━━━━━━\u001b[0m\u001b[37m\u001b[0m \u001b[1m3s\u001b[0m 538us/step - accuracy: 0.7332 - loss: 0.5744 - val_accuracy: 0.7263 - val_loss: 0.5894\n",
      "Epoch 12/15\n",
      "\u001b[1m5560/5560\u001b[0m \u001b[32m━━━━━━━━━━━━━━━━━━━━\u001b[0m\u001b[37m\u001b[0m \u001b[1m3s\u001b[0m 547us/step - accuracy: 0.7359 - loss: 0.5693 - val_accuracy: 0.7258 - val_loss: 0.5887\n",
      "Epoch 13/15\n",
      "\u001b[1m5560/5560\u001b[0m \u001b[32m━━━━━━━━━━━━━━━━━━━━\u001b[0m\u001b[37m\u001b[0m \u001b[1m3s\u001b[0m 540us/step - accuracy: 0.7381 - loss: 0.5645 - val_accuracy: 0.7274 - val_loss: 0.5872\n",
      "Epoch 14/15\n",
      "\u001b[1m5560/5560\u001b[0m \u001b[32m━━━━━━━━━━━━━━━━━━━━\u001b[0m\u001b[37m\u001b[0m \u001b[1m3s\u001b[0m 549us/step - accuracy: 0.7384 - loss: 0.5629 - val_accuracy: 0.7317 - val_loss: 0.5802\n",
      "Epoch 15/15\n",
      "\u001b[1m5560/5560\u001b[0m \u001b[32m━━━━━━━━━━━━━━━━━━━━\u001b[0m\u001b[37m\u001b[0m \u001b[1m3s\u001b[0m 546us/step - accuracy: 0.7426 - loss: 0.5552 - val_accuracy: 0.7320 - val_loss: 0.5780\n"
     ]
    }
   ],
   "source": [
    "model = Sequential([\n",
    "    Dense(128, activation='relu', input_shape=(X_train_scaled.shape[1],)),\n",
    "    Dense(64, activation='relu'),\n",
    "    Dense(32, activation='relu'),\n",
    "    Dense(3, activation='softmax')  # 3 output classes\n",
    "])\n",
    "\n",
    "model.compile(optimizer='adam', loss='sparse_categorical_crossentropy', metrics=['accuracy'])\n",
    "\n",
    "history = model.fit(\n",
    "    X_train_scaled, y_train_adj,\n",
    "    validation_data=(X_val_scaled, y_val_adj),\n",
    "    epochs=15, batch_size=64, verbose=1\n",
    ")\n"
   ]
  },
  {
   "cell_type": "code",
   "execution_count": 7,
   "metadata": {},
   "outputs": [
    {
     "name": "stdout",
     "output_type": "stream",
     "text": [
      "\u001b[1m2780/2780\u001b[0m \u001b[32m━━━━━━━━━━━━━━━━━━━━\u001b[0m\u001b[37m\u001b[0m \u001b[1m1s\u001b[0m 214us/step\n",
      "Validation Micro F1 Score: 0.7320\n"
     ]
    }
   ],
   "source": [
    "val_preds = model.predict(X_val_scaled)\n",
    "val_preds_labels = np.argmax(val_preds, axis=1) + 1  # back to original label range\n",
    "\n",
    "micro_f1 = f1_score(y_val, val_preds_labels, average='micro')\n",
    "print(f\"Validation Micro F1 Score: {micro_f1:.4f}\")\n"
   ]
  },
  {
   "cell_type": "code",
   "execution_count": 9,
   "metadata": {},
   "outputs": [
    {
     "name": "stdout",
     "output_type": "stream",
     "text": [
      "\u001b[1m2780/2780\u001b[0m \u001b[32m━━━━━━━━━━━━━━━━━━━━\u001b[0m\u001b[37m\u001b[0m \u001b[1m1s\u001b[0m 216us/step\n"
     ]
    },
    {
     "data": {
      "image/png": "[encoded data removed]",
      "text/plain": [
       "<Figure size 640x480 with 2 Axes>"
      ]
     },
     "metadata": {},
     "output_type": "display_data"
    }
   ],
   "source": [
    "from sklearn.metrics import confusion_matrix, ConfusionMatrixDisplay\n",
    "import matplotlib.pyplot as plt\n",
    "import numpy as np\n",
    "\n",
    "# Predict on the validation set\n",
    "y_val_pred_probs = model.predict(X_val_scaled)\n",
    "y_val_preds = np.argmax(y_val_pred_probs, axis=1)\n",
    "\n",
    "# Plot confusion matrix\n",
    "cm = confusion_matrix(y_val_adj, y_val_preds)\n",
    "disp = ConfusionMatrixDisplay(confusion_matrix=cm, display_labels=[1, 2, 3])\n",
    "disp.plot(cmap=plt.cm.Blues)\n",
    "plt.title(\"Confusion Matrix\")\n",
    "plt.show()\n"
   ]
  }
 ],
 "metadata": {
  "kernelspec": {
   "display_name": "base",
   "language": "python",
   "name": "python3"
  },
  "language_info": {
   "codemirror_mode": {
    "name": "ipython",
    "version": 3
   },
   "file_extension": ".py",
   "mimetype": "text/x-python",
   "name": "python",
   "nbconvert_exporter": "python",
   "pygments_lexer": "ipython3",
   "version": "3.11.7"
  },
  "orig_nbformat": 4
 },
 "nbformat": 4,
 "nbformat_minor": 2
}
